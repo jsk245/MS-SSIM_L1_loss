{
  "nbformat": 4,
  "nbformat_minor": 0,
  "metadata": {
    "colab": {
      "name": "MSSSIML1_loss_jax.ipynb",
      "provenance": [],
      "collapsed_sections": [],
      "include_colab_link": true
    },
    "kernelspec": {
      "name": "python3",
      "display_name": "Python 3"
    },
    "language_info": {
      "name": "python"
    }
  },
  "cells": [
    {
      "cell_type": "markdown",
      "metadata": {
        "id": "view-in-github",
        "colab_type": "text"
      },
      "source": [
        "<a href=\"https://colab.research.google.com/github/jsk245/MS-SSIM_L1_loss/blob/main/MSSSIML1_loss_jax.ipynb\" target=\"_parent\"><img src=\"https://colab.research.google.com/assets/colab-badge.svg\" alt=\"Open In Colab\"/></a>"
      ]
    },
    {
      "cell_type": "code",
      "source": [
        "import jax\n",
        "import jax.numpy as jnp"
      ],
      "metadata": {
        "id": "KBvoKyLtauHy"
      },
      "execution_count": null,
      "outputs": []
    },
    {
      "cell_type": "code",
      "source": [
        "@jax.jit\n",
        "def MSSSIML1_loss(image1, image2, sigmas=(0.5, 1., 2., 4., 8.), filter_size=11, C1=.01, C2=.03, alpha=0.84):\n",
        "  # image1 and image2 are the same shape Nx1xHxWxC and are floats in the range [-1.0, 1.0]\n",
        "  C1 = C1**2\n",
        "  C2 = C2**2\n",
        "  num_scale = len(sigmas)\n",
        "  batch = image1.shape[0]\n",
        "  channels = image1.shape[4]\n",
        "  height = image1.shape[2]\n",
        "  width = image1.shape[3]\n",
        "  image1 = jnp.moveaxis(jnp.reshape(image1, (batch, height, width, channels)), 3, 1)\n",
        "  image2 = jnp.moveaxis(jnp.reshape(image2, (batch, height, width, channels)), 3, 1)\n",
        "  image1 = (image1+1)/2\n",
        "  image2 = (image2+1)/2\n",
        "  image1 = jnp.reshape(image1, (batch*channels, height, width, 1))\n",
        "  image2 = jnp.reshape(image2, (batch*channels, height, width, 1))\n",
        "  diff = jnp.abs(image2-image1)\n",
        "  width = filter_size\n",
        "  w = jnp.empty((width, width, 1, 0))\n",
        "\n",
        "# initialize the gaussian filters based on the bottom size\n",
        "  for i in range(num_scale):\n",
        "    weights = jnp.exp(-1.*jnp.arange(-(width//2), width//2+1)**2/(2*sigmas[i]**2))\n",
        "    weights = weights[:, None]@weights[None, :]\n",
        "    weights = weights/jnp.sum(weights)\t\t\t\t\t\t\t# normailization\n",
        "    weights = jnp.reshape(weights, (width, width, 1, 1)) \t\t# reshape to 4D\n",
        "    w = jnp.concatenate([w, weights], axis=3)\n",
        "\n",
        "  w = jnp.transpose(w,[3,2,0,1])\n",
        "  image1 = jnp.transpose(image1,[0,3,1,2])\n",
        "  image2 = jnp.transpose(image2,[0,3,1,2])\n",
        "  \n",
        "  mux = jax.lax.conv(image1, w, (1,1), \"SAME\")\n",
        "  muy = jax.lax.conv(image2, w, (1,1), \"SAME\")\n",
        "  sigmax2 = jax.lax.conv(image1**2, w, (1,1), \"SAME\") - mux **2\n",
        "  sigmay2 = jax.lax.conv(image2**2, w, (1,1), \"SAME\") - muy **2\n",
        "  sigmaxy = jax.lax.conv(image1*image2, w, (1,1), \"SAME\") - mux * muy\n",
        "  l = (2 * mux * muy + C1)/(mux ** 2 + muy **2 + C1)\n",
        "  cs = (2 * sigmaxy + C2)/(sigmax2 + sigmay2 + C2)\n",
        "\n",
        "  Pcs = jnp.prod(cs, axis=1)\n",
        "  l1_loss = jnp.mean(jax.lax.conv(jnp.transpose(diff,[0,3,1,2]), w[-1,:,:,:][None,:,:,:], (1,1), \"SAME\"))\n",
        "\n",
        "  return alpha * (1 - jnp.mean(l[:, -1, :, :] * Pcs)) + (1 - alpha) * l1_loss"
      ],
      "metadata": {
        "id": "QrYBu42_-oGd"
      },
      "execution_count": null,
      "outputs": []
    },
    {
      "cell_type": "code",
      "source": [
        "@jax.jit\n",
        "def MSSSIML1_loss_vectorized(image1, image2, sigmas=(0.5, 1., 2., 4., 8.), filter_size=11, C1=.01, C2=.03, alpha=0.84):\n",
        "  # image1 and image2 are the same shape Nx1xHxWxC and are floats in the range [-1.0, 1.0]\n",
        "  C1 = C1**2\n",
        "  C2 = C2**2\n",
        "  num_scale = len(sigmas)\n",
        "  batch = image1.shape[0]\n",
        "  channels = image1.shape[4]\n",
        "  height = image1.shape[2]\n",
        "  width = image1.shape[3]\n",
        "  image1 = jnp.moveaxis(jnp.reshape(image1, (batch, height, width, channels)), 3, 1)\n",
        "  image2 = jnp.moveaxis(jnp.reshape(image2, (batch, height, width, channels)), 3, 1)\n",
        "  image1 = (image1+1)/2\n",
        "  image2 = (image2+1)/2\n",
        "  image1 = jnp.reshape(image1, (batch*channels, height, width, 1))\n",
        "  image2 = jnp.reshape(image2, (batch*channels, height, width, 1))\n",
        "  diff = jnp.abs(image2-image1)\n",
        "  width = filter_size\n",
        "\n",
        "  # initialize the gaussian filters based on the bottom size\n",
        "  w = jnp.exp((-1.*jnp.arange(-(width//2), width//2+1)**2)[None,:] / (2*jnp.array(sigmas)**2)[:,None])\n",
        "  w = w[:,:,None]@w[:,None,:]\n",
        "  w = w / jnp.sum(w, axis=(1,2))[:,None,None]\n",
        "  w = jnp.reshape(w, (num_scale, 1, width, width))\n",
        "  w = jnp.transpose(w, axes=(3,2,1,0))\n",
        "\n",
        "  w = jnp.transpose(w,[3,2,0,1])\n",
        "  image1 = jnp.transpose(image1,[0,3,1,2])\n",
        "  image2 = jnp.transpose(image2,[0,3,1,2])\n",
        "  \n",
        "  mux = jax.lax.conv(image1, w, (1,1), \"SAME\")\n",
        "  muy = jax.lax.conv(image2, w, (1,1), \"SAME\")\n",
        "  sigmax2 = jax.lax.conv(image1**2, w, (1,1), \"SAME\") - mux **2\n",
        "  sigmay2 = jax.lax.conv(image2**2, w, (1,1), \"SAME\") - muy **2\n",
        "  sigmaxy = jax.lax.conv(image1*image2, w, (1,1), \"SAME\") - mux * muy\n",
        "  l = (2 * mux * muy + C1)/(mux ** 2 + muy **2 + C1)\n",
        "  cs = (2 * sigmaxy + C2)/(sigmax2 + sigmay2 + C2)\n",
        "\n",
        "  Pcs = jnp.prod(cs, axis=1)\n",
        "  l1_loss = jnp.mean(jax.lax.conv(jnp.transpose(diff,[0,3,1,2]), w[-1,:,:,:][None,:,:,:], (1,1), \"SAME\"))\n",
        "\n",
        "  return alpha * (1 - jnp.mean(l[:, -1, :, :] * Pcs)) + (1 - alpha) * l1_loss"
      ],
      "metadata": {
        "id": "f568eEguWXde"
      },
      "execution_count": null,
      "outputs": []
    },
    {
      "cell_type": "code",
      "source": [
        "img1 = jnp.ones((4,1,224,224,3)) * 0.5\n",
        "img2 = jnp.ones((4,1,224,224,3)) * -0.5"
      ],
      "metadata": {
        "id": "YkkEA58B--HF"
      },
      "execution_count": null,
      "outputs": []
    },
    {
      "cell_type": "code",
      "source": [
        "% timeit MSSSIML1_loss(img1,img2)"
      ],
      "metadata": {
        "id": "Zk1z0DPGyujG"
      },
      "execution_count": null,
      "outputs": []
    },
    {
      "cell_type": "code",
      "source": [
        "% timeit MSSSIML1_loss_vectorized(img1,img2)"
      ],
      "metadata": {
        "id": "ygnjWL0uWr7k"
      },
      "execution_count": null,
      "outputs": []
    },
    {
      "cell_type": "code",
      "source": [
        "MSSSIML1_loss_vectorized(img1,img2)"
      ],
      "metadata": {
        "id": "hknIP3tX1Y_a"
      },
      "execution_count": null,
      "outputs": []
    }
  ]
}